{
  "cells": [
    {
      "metadata": {
        "_uuid": "0bc0752bc77d10c7fbcf664752eea75402bf619f",
        "_cell_guid": "a694543f-b495-4495-a3af-87100c068725",
        "trusted": true
      },
      "cell_type": "code",
      "source": "library(ggplot2)\nlibrary(readr)\n#library(caret)\nlibrary(e1071)\n\nsystem(\"ls ../input\")",
      "execution_count": 1,
      "outputs": []
    },
    {
      "metadata": {
        "_uuid": "655ec57a7319af804e137cb7900c01dc42a0c481",
        "_cell_guid": "fcf59561-38cd-4ec3-b8bd-d779835a91ff",
        "trusted": true
      },
      "cell_type": "code",
      "source": "df = read.csv('IMDB-Movie-Data.csv')\ndf = na.omit(df)\nstr(df)",
      "execution_count": 2,
      "outputs": [
        {
          "output_type": "stream",
          "text": "'data.frame':\t838 obs. of  12 variables:\n $ Rank              : int  1 2 3 4 5 6 7 9 10 11 ...\n $ Title             : Factor w/ 999 levels \"(500) Days of Summer\",..: 288 569 656 636 674 780 403 834 538 232 ...\n $ Genre             : Factor w/ 207 levels \"Action\",\"Action,Adventure\",..: 12 86 196 93 8 8 117 3 75 81 ...\n $ Description       : Factor w/ 1000 levels \"\\\"21\\\" is the fact-based story about six MIT students who were trained to become experts in card counting and s\"| __truncated__,..: 97 538 881 606 218 520 123 276 238 788 ...\n $ Director          : Factor w/ 644 levels \"Aamir Khan\",\"Abdellatif Kechiche\",..: 266 519 392 106 137 641 124 265 450 156 ...\n $ Actors            : Factor w/ 996 levels \"Aamir Khan, Anushka Sharma, Sanjay Dutt,Boman Irani\",..: 185 737 419 659 972 650 810 154 456 277 ...\n $ Year              : int  2014 2012 2016 2016 2016 2016 2016 2016 2016 2016 ...\n $ Runtime..Minutes. : int  121 124 117 108 123 103 128 141 116 133 ...\n $ Rating            : num  8.1 7 7.3 7.2 6.2 6.1 8.3 7.1 7 7.5 ...\n $ Votes             : int  757074 485820 157606 60545 393727 56036 258682 7188 192177 232072 ...\n $ Revenue..Millions.: num  333 126 138 270 325 ...\n $ Metascore         : int  76 65 62 59 40 42 93 78 41 66 ...\n - attr(*, \"na.action\")=Class 'omit'  Named int [1:162] 8 23 26 27 28 40 43 48 50 62 ...\n  .. ..- attr(*, \"names\")= chr [1:162] \"8\" \"23\" \"26\" \"27\" ...\n",
          "name": "stdout"
        }
      ]
    },
    {
      "metadata": {
        "_uuid": "dce174fde114de8d98dcc6fb3f718902e10e5382",
        "_cell_guid": "97f9f8d9-574d-4075-a226-05dc96693d89",
        "trusted": true
      },
      "cell_type": "code",
      "source": "df$user_preferred = df$Rating > (df$Metascore / 10)\nnames(df)[names(df) == 'Revenue..Millions.'] <- 'revenue_millions'",
      "execution_count": 3,
      "outputs": []
    },
    {
      "metadata": {
        "_uuid": "259e07f996bf749691b4dba12ec3ee2edf014083",
        "_cell_guid": "cdc5f845-0a60-46b2-ad01-ad33cca8e43b",
        "trusted": true
      },
      "cell_type": "code",
      "source": "set.seed(1)\n#indices = createDataPartition(df$Rating, p=.2, list = F)\nindices = createDataPartition(df$Rating, p=.2, list = F)\ntrain = df[-indices, ]\ntest = df[indices, ]",
      "execution_count": 5,
      "outputs": [
        {
          "output_type": "error",
          "ename": "ERROR",
          "evalue": "Error in createDataPartition(df$Rating, p = 0.2, list = F): could not find function \"createDataPartition\"\n",
          "traceback": [
            "Error in createDataPartition(df$Rating, p = 0.2, list = F): could not find function \"createDataPartition\"\nTraceback:\n"
          ]
        }
      ]
    },
    {
      "metadata": {
        "scrolled": true,
        "_uuid": "8840b354718cf8a30b3b273c16564c254f3932d3",
        "_cell_guid": "7af4f873-9a85-45d2-bf4c-e23fdffb62d8",
        "trusted": true
      },
      "cell_type": "code",
      "source": "sunflowerplot(Rating~Metascore, data = df, ylim = c(1,10))",
      "execution_count": null,
      "outputs": []
    },
    {
      "metadata": {
        "_uuid": "445e5dd4f6a7f72956af68ceb79da7fa2ad77e28",
        "_cell_guid": "d2f393d3-38e0-425e-8b65-3be50d5abcf0",
        "trusted": true
      },
      "cell_type": "code",
      "source": "model_nb = naiveBayes(user_preferred~Genre+revenue_millions, data=train, laplace = 1)\npred = predict(model_nb, newdata = test)\nconfusionMatrix(data=pred, reference = test$user_preferred)",
      "execution_count": null,
      "outputs": []
    }
  ],
  "metadata": {
    "language_info": {
      "mimetype": "text/x-r-source",
      "name": "R",
      "pygments_lexer": "r",
      "version": "3.4.1",
      "file_extension": ".r",
      "codemirror_mode": "r"
    },
    "kernelspec": {
      "name": "r",
      "display_name": "R",
      "language": "R"
    }
  },
  "nbformat": 4,
  "nbformat_minor": 1
}